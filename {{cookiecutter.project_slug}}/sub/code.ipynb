{
 "cells": [
  {
   "cell_type": "code",
   "execution_count": null,
   "metadata": {},
   "outputs": [],
   "source": [
    "!pip install /kaggle/input/{{ cookiecutter.competition_name }}-deps/*.whl \\\n",
    "    --force-reinstall \\\n",
    "    --root-user-action ignore \\\n",
    "    --no-deps \\\n",
    "    --no-index \\\n",
    "    --find-links /kaggle/input/{{ cookiecutter.competition_name }}-deps"
   ]
  },
  {
   "cell_type": "code",
   "execution_count": null,
   "metadata": {},
   "outputs": [],
   "source": [
    "!PYTHONPATH=/kaggle/input/{{ cookiecutter.competition_name }}-codes \\\n",
    "  python /kaggle/input/{{ cookiecutter.competition_name }}-codes/experiments/001/inference.py"
   ]
  }
 ],
 "metadata": {
  "kernelspec": {
   "display_name": ".venv",
   "language": "python",
   "name": "python3"
  },
  "language_info": {
   "codemirror_mode": {
    "name": "ipython",
    "version": 3
   },
   "file_extension": ".py",
   "mimetype": "text/x-python",
   "name": "python",
   "nbconvert_exporter": "python",
   "pygments_lexer": "ipython3",
   "version": "3.11.9"
  }
 },
 "nbformat": 4,
 "nbformat_minor": 2
}
